{
  "cells": [
    {
      "metadata": {
        "_uuid": "9ed1b76e669dd1cb20a1867b78517effaa303081"
      },
      "cell_type": "markdown",
      "source": "**In this notebook we are going to explore dataset on News headlines and classify weather the headline is sarcastic or not**"
    },
    {
      "metadata": {
        "_uuid": "8f2839f25d086af736a60e9eeb907d3b93b6e0e5",
        "_cell_guid": "b1076dfc-b9ad-4769-8c92-a6c4dae69d19",
        "trusted": true
      },
      "cell_type": "code",
      "source": "# This Python 3 environment comes with many helpful analytics libraries installed\n# It is defined by the kaggle/python docker image: https://github.com/kaggle/docker-python\n# For example, here's several helpful packages to load in \n\nimport numpy as np # linear algebra\nimport pandas as pd # data processing, CSV file I/O (e.g. pd.read_csv)\nimport seaborn as sns\nimport matplotlib.pyplot as plt\nimport random\nimport spacy\n\nfrom sklearn.pipeline import Pipeline\nfrom sklearn.feature_extraction.text import TfidfVectorizer\nfrom pandas.io.json import json_normalize\nfrom spacy import displacy\n\nfrom sklearn.model_selection import train_test_split\nfrom sklearn.model_selection import GridSearchCV\n\nfrom sklearn.naive_bayes import MultinomialNB\nfrom sklearn.linear_model import LogisticRegression\nfrom sklearn.ensemble import RandomForestClassifier\nfrom sklearn.svm import LinearSVC\n\nfrom sklearn.metrics import confusion_matrix\nfrom sklearn.metrics import accuracy_score\nfrom sklearn.metrics import classification_report\n\n\nnlp = spacy.load('en_core_web_sm')    \n# Input data files are available in the \"../input/\" directory.\n# For example, running this (by clicking run or pressing Shift+Enter) will list the files in the input directory\nsns.set_style({'xtick.bottom':False,\n               'ytick.left':False,\n               'axes.spines.bottom':False,\n               'axes.spines.top':False,\n               'axes.spines.left':False,\n               'axes.spines.right':False\n              })\n\nimport os\nprint(os.listdir(\"../input\"))\n\n# Any results you write to the current directory are saved as output.",
      "execution_count": 250,
      "outputs": [
        {
          "output_type": "stream",
          "text": "['Sarcasm_Headlines_Dataset.json']\n",
          "name": "stdout"
        }
      ]
    },
    {
      "metadata": {
        "_cell_guid": "79c7e3d0-c299-4dcb-8224-4455121ee9b0",
        "_uuid": "d629ff2d2480ee46fbb7e2d37f6b5fab8052498a",
        "trusted": true
      },
      "cell_type": "code",
      "source": "data = pd.read_json('../input/Sarcasm_Headlines_Dataset.json',lines=True)\ndata.head()",
      "execution_count": 251,
      "outputs": [
        {
          "output_type": "execute_result",
          "execution_count": 251,
          "data": {
            "text/plain": "                                        article_link     ...      is_sarcastic\n0  https://www.huffingtonpost.com/entry/versace-b...     ...                 0\n1  https://www.huffingtonpost.com/entry/roseanne-...     ...                 0\n2  https://local.theonion.com/mom-starting-to-fea...     ...                 1\n3  https://politics.theonion.com/boehner-just-wan...     ...                 1\n4  https://www.huffingtonpost.com/entry/jk-rowlin...     ...                 0\n\n[5 rows x 3 columns]",
            "text/html": "<div>\n<style scoped>\n    .dataframe tbody tr th:only-of-type {\n        vertical-align: middle;\n    }\n\n    .dataframe tbody tr th {\n        vertical-align: top;\n    }\n\n    .dataframe thead th {\n        text-align: right;\n    }\n</style>\n<table border=\"1\" class=\"dataframe\">\n  <thead>\n    <tr style=\"text-align: right;\">\n      <th></th>\n      <th>article_link</th>\n      <th>headline</th>\n      <th>is_sarcastic</th>\n    </tr>\n  </thead>\n  <tbody>\n    <tr>\n      <th>0</th>\n      <td>https://www.huffingtonpost.com/entry/versace-b...</td>\n      <td>former versace store clerk sues over secret 'b...</td>\n      <td>0</td>\n    </tr>\n    <tr>\n      <th>1</th>\n      <td>https://www.huffingtonpost.com/entry/roseanne-...</td>\n      <td>the 'roseanne' revival catches up to our thorn...</td>\n      <td>0</td>\n    </tr>\n    <tr>\n      <th>2</th>\n      <td>https://local.theonion.com/mom-starting-to-fea...</td>\n      <td>mom starting to fear son's web series closest ...</td>\n      <td>1</td>\n    </tr>\n    <tr>\n      <th>3</th>\n      <td>https://politics.theonion.com/boehner-just-wan...</td>\n      <td>boehner just wants wife to listen, not come up...</td>\n      <td>1</td>\n    </tr>\n    <tr>\n      <th>4</th>\n      <td>https://www.huffingtonpost.com/entry/jk-rowlin...</td>\n      <td>j.k. rowling wishes snape happy birthday in th...</td>\n      <td>0</td>\n    </tr>\n  </tbody>\n</table>\n</div>"
          },
          "metadata": {}
        }
      ]
    },
    {
      "metadata": {
        "trusted": true,
        "_uuid": "1cc69aa33039e7cbb29a7d0dd264681dc6e62d7e"
      },
      "cell_type": "code",
      "source": "data.shape",
      "execution_count": 252,
      "outputs": [
        {
          "output_type": "execute_result",
          "execution_count": 252,
          "data": {
            "text/plain": "(26709, 3)"
          },
          "metadata": {}
        }
      ]
    },
    {
      "metadata": {
        "trusted": true,
        "_uuid": "cdef9dd73f96adffa0525ff8f7127230b22f0ec8"
      },
      "cell_type": "code",
      "source": "data.info()",
      "execution_count": 253,
      "outputs": [
        {
          "output_type": "stream",
          "text": "<class 'pandas.core.frame.DataFrame'>\nRangeIndex: 26709 entries, 0 to 26708\nData columns (total 3 columns):\narticle_link    26709 non-null object\nheadline        26709 non-null object\nis_sarcastic    26709 non-null int64\ndtypes: int64(1), object(2)\nmemory usage: 626.1+ KB\n",
          "name": "stdout"
        }
      ]
    },
    {
      "metadata": {
        "trusted": true,
        "_uuid": "95944186056b56608376a675eabda4b1f8faf362"
      },
      "cell_type": "code",
      "source": "data.isnull().sum()",
      "execution_count": 254,
      "outputs": [
        {
          "output_type": "execute_result",
          "execution_count": 254,
          "data": {
            "text/plain": "article_link    0\nheadline        0\nis_sarcastic    0\ndtype: int64"
          },
          "metadata": {}
        }
      ]
    },
    {
      "metadata": {
        "_uuid": "fc24d6be12f6133eb08a2f14c058fd8e2d1eb238"
      },
      "cell_type": "markdown",
      "source": "**Lets look at a random headline**"
    },
    {
      "metadata": {
        "trusted": true,
        "_uuid": "c68d3d9baa0d58a9fac51982cd200f5935a0eb6a"
      },
      "cell_type": "code",
      "source": "def explore_headline(text):    \n    doc=nlp(text)\n    print(f'Headline : {doc}')\n    print(f'\\nTotal number of tokens : {len(doc)} \\n')\n\n    for token in doc:\n        print(token.text,end=' | ')\n        \n    print('\\n')\n    \n    for token in doc:\n        print(f'{token.text:{12}}{token.pos_:{10}}{token.dep_:{12}}{str(spacy.explain(token.dep_))}')\n    \n    print(f'\\nTotal number of Sentences : {len(list(doc.sents))}')\n    for sent in doc.sents:\n        print(sent)\n        \n    if len(doc.ents)>0:\n        print(f'\\nTotal number of Entity : {len(doc.ents)}\\n')    \n        for ent in doc.ents:\n             print(ent.text+' - '+ent.label_+' - '+str(spacy.explain(ent.label_)))\n        displacy.render(doc,style='ent',jupyter=True)\n    \n    displacy.render(doc,style='dep',jupyter=True,options={'distance': 80}) \n    \ndef get_ents(text):\n    doc=nlp(text)\n    return len(doc.ents)\ndef get_tokens(text):\n    doc=nlp(text)\n    return len(doc)\ndef get_sents(text):\n    doc=nlp(text)\n    return len(list(doc.sents))",
      "execution_count": 255,
      "outputs": []
    },
    {
      "metadata": {
        "_uuid": "b6c24ddecfb03dec1c9c091434927c8bbd6d6a67"
      },
      "cell_type": "markdown",
      "source": "**Non Sarcastic Headline**"
    },
    {
      "metadata": {
        "trusted": true,
        "_uuid": "e4868bc2d7836bd7180fac3f11dd08868591a682"
      },
      "cell_type": "code",
      "source": "explore_headline(data['headline'][24883])",
      "execution_count": 256,
      "outputs": [
        {
          "output_type": "stream",
          "text": "Headline : intuition or ego? 3 simple steps to reach truth\n\nTotal number of tokens : 10 \n\nintuition | or | ego | ? | 3 | simple | steps | to | reach | truth | \n\nintuition   NOUN      ROOT        None\nor          CCONJ     cc          coordinating conjunction\nego         NOUN      conj        conjunct\n?           PUNCT     punct       punctuation\n3           NUM       nummod      None\nsimple      ADJ       amod        adjectival modifier\nsteps       NOUN      ROOT        None\nto          PART      aux         auxiliary\nreach       VERB      relcl       None\ntruth       NOUN      dobj        direct object\n\nTotal number of Sentences : 2\nintuition or ego?\n3 simple steps to reach truth\n\nTotal number of Entity : 1\n\n3 - CARDINAL - Numerals that do not fall under another type\n",
          "name": "stdout"
        },
        {
          "output_type": "display_data",
          "data": {
            "text/plain": "<IPython.core.display.HTML object>",
            "text/html": "<div class=\"entities\" style=\"line-height: 2.5\">intuition or ego? \n<mark class=\"entity\" style=\"background: #e4e7d2; padding: 0.45em 0.6em; margin: 0 0.25em; line-height: 1; border-radius: 0.35em; box-decoration-break: clone; -webkit-box-decoration-break: clone\">\n    3\n    <span style=\"font-size: 0.8em; font-weight: bold; line-height: 1; border-radius: 0.35em; text-transform: uppercase; vertical-align: middle; margin-left: 0.5rem\">CARDINAL</span>\n</mark>\n simple steps to reach truth</div>"
          },
          "metadata": {}
        },
        {
          "output_type": "display_data",
          "data": {
            "text/plain": "<IPython.core.display.HTML object>",
            "text/html": "<svg xmlns=\"http://www.w3.org/2000/svg\" xmlns:xlink=\"http://www.w3.org/1999/xlink\" id=\"892-0\" class=\"displacy\" width=\"770\" height=\"217.0\" style=\"max-width: none; height: 217.0px; color: #000000; background: #ffffff; font-family: Arial\">\n<text class=\"displacy-token\" fill=\"currentColor\" text-anchor=\"middle\" y=\"127.0\">\n    <tspan class=\"displacy-word\" fill=\"currentColor\" x=\"50\">intuition</tspan>\n    <tspan class=\"displacy-tag\" dy=\"2em\" fill=\"currentColor\" x=\"50\">NOUN</tspan>\n</text>\n\n<text class=\"displacy-token\" fill=\"currentColor\" text-anchor=\"middle\" y=\"127.0\">\n    <tspan class=\"displacy-word\" fill=\"currentColor\" x=\"130\">or</tspan>\n    <tspan class=\"displacy-tag\" dy=\"2em\" fill=\"currentColor\" x=\"130\">CCONJ</tspan>\n</text>\n\n<text class=\"displacy-token\" fill=\"currentColor\" text-anchor=\"middle\" y=\"127.0\">\n    <tspan class=\"displacy-word\" fill=\"currentColor\" x=\"210\">ego?</tspan>\n    <tspan class=\"displacy-tag\" dy=\"2em\" fill=\"currentColor\" x=\"210\">NOUN</tspan>\n</text>\n\n<text class=\"displacy-token\" fill=\"currentColor\" text-anchor=\"middle\" y=\"127.0\">\n    <tspan class=\"displacy-word\" fill=\"currentColor\" x=\"290\">3</tspan>\n    <tspan class=\"displacy-tag\" dy=\"2em\" fill=\"currentColor\" x=\"290\">NUM</tspan>\n</text>\n\n<text class=\"displacy-token\" fill=\"currentColor\" text-anchor=\"middle\" y=\"127.0\">\n    <tspan class=\"displacy-word\" fill=\"currentColor\" x=\"370\">simple</tspan>\n    <tspan class=\"displacy-tag\" dy=\"2em\" fill=\"currentColor\" x=\"370\">ADJ</tspan>\n</text>\n\n<text class=\"displacy-token\" fill=\"currentColor\" text-anchor=\"middle\" y=\"127.0\">\n    <tspan class=\"displacy-word\" fill=\"currentColor\" x=\"450\">steps</tspan>\n    <tspan class=\"displacy-tag\" dy=\"2em\" fill=\"currentColor\" x=\"450\">NOUN</tspan>\n</text>\n\n<text class=\"displacy-token\" fill=\"currentColor\" text-anchor=\"middle\" y=\"127.0\">\n    <tspan class=\"displacy-word\" fill=\"currentColor\" x=\"530\">to</tspan>\n    <tspan class=\"displacy-tag\" dy=\"2em\" fill=\"currentColor\" x=\"530\">PART</tspan>\n</text>\n\n<text class=\"displacy-token\" fill=\"currentColor\" text-anchor=\"middle\" y=\"127.0\">\n    <tspan class=\"displacy-word\" fill=\"currentColor\" x=\"610\">reach</tspan>\n    <tspan class=\"displacy-tag\" dy=\"2em\" fill=\"currentColor\" x=\"610\">VERB</tspan>\n</text>\n\n<text class=\"displacy-token\" fill=\"currentColor\" text-anchor=\"middle\" y=\"127.0\">\n    <tspan class=\"displacy-word\" fill=\"currentColor\" x=\"690\">truth</tspan>\n    <tspan class=\"displacy-tag\" dy=\"2em\" fill=\"currentColor\" x=\"690\">NOUN</tspan>\n</text>\n\n<g class=\"displacy-arrow\">\n    <path class=\"displacy-arc\" id=\"arrow-892-0-0\" stroke-width=\"2px\" d=\"M70,82.0 C70,42.0 125.0,42.0 125.0,82.0\" fill=\"none\" stroke=\"currentColor\"/>\n    <text dy=\"1.25em\" style=\"font-size: 0.8em; letter-spacing: 1px\">\n        <textPath xlink:href=\"#arrow-892-0-0\" class=\"displacy-label\" startOffset=\"50%\" fill=\"currentColor\" text-anchor=\"middle\">cc</textPath>\n    </text>\n    <path class=\"displacy-arrowhead\" d=\"M125.0,84.0 L133.0,72.0 117.0,72.0\" fill=\"currentColor\"/>\n</g>\n\n<g class=\"displacy-arrow\">\n    <path class=\"displacy-arc\" id=\"arrow-892-0-1\" stroke-width=\"2px\" d=\"M70,82.0 C70,2.0 210.0,2.0 210.0,82.0\" fill=\"none\" stroke=\"currentColor\"/>\n    <text dy=\"1.25em\" style=\"font-size: 0.8em; letter-spacing: 1px\">\n        <textPath xlink:href=\"#arrow-892-0-1\" class=\"displacy-label\" startOffset=\"50%\" fill=\"currentColor\" text-anchor=\"middle\">conj</textPath>\n    </text>\n    <path class=\"displacy-arrowhead\" d=\"M210.0,84.0 L218.0,72.0 202.0,72.0\" fill=\"currentColor\"/>\n</g>\n\n<g class=\"displacy-arrow\">\n    <path class=\"displacy-arc\" id=\"arrow-892-0-2\" stroke-width=\"2px\" d=\"M310,82.0 C310,2.0 450.0,2.0 450.0,82.0\" fill=\"none\" stroke=\"currentColor\"/>\n    <text dy=\"1.25em\" style=\"font-size: 0.8em; letter-spacing: 1px\">\n        <textPath xlink:href=\"#arrow-892-0-2\" class=\"displacy-label\" startOffset=\"50%\" fill=\"currentColor\" text-anchor=\"middle\">nummod</textPath>\n    </text>\n    <path class=\"displacy-arrowhead\" d=\"M310,84.0 L302,72.0 318,72.0\" fill=\"currentColor\"/>\n</g>\n\n<g class=\"displacy-arrow\">\n    <path class=\"displacy-arc\" id=\"arrow-892-0-3\" stroke-width=\"2px\" d=\"M390,82.0 C390,42.0 445.0,42.0 445.0,82.0\" fill=\"none\" stroke=\"currentColor\"/>\n    <text dy=\"1.25em\" style=\"font-size: 0.8em; letter-spacing: 1px\">\n        <textPath xlink:href=\"#arrow-892-0-3\" class=\"displacy-label\" startOffset=\"50%\" fill=\"currentColor\" text-anchor=\"middle\">amod</textPath>\n    </text>\n    <path class=\"displacy-arrowhead\" d=\"M390,84.0 L382,72.0 398,72.0\" fill=\"currentColor\"/>\n</g>\n\n<g class=\"displacy-arrow\">\n    <path class=\"displacy-arc\" id=\"arrow-892-0-4\" stroke-width=\"2px\" d=\"M550,82.0 C550,42.0 605.0,42.0 605.0,82.0\" fill=\"none\" stroke=\"currentColor\"/>\n    <text dy=\"1.25em\" style=\"font-size: 0.8em; letter-spacing: 1px\">\n        <textPath xlink:href=\"#arrow-892-0-4\" class=\"displacy-label\" startOffset=\"50%\" fill=\"currentColor\" text-anchor=\"middle\">aux</textPath>\n    </text>\n    <path class=\"displacy-arrowhead\" d=\"M550,84.0 L542,72.0 558,72.0\" fill=\"currentColor\"/>\n</g>\n\n<g class=\"displacy-arrow\">\n    <path class=\"displacy-arc\" id=\"arrow-892-0-5\" stroke-width=\"2px\" d=\"M470,82.0 C470,2.0 610.0,2.0 610.0,82.0\" fill=\"none\" stroke=\"currentColor\"/>\n    <text dy=\"1.25em\" style=\"font-size: 0.8em; letter-spacing: 1px\">\n        <textPath xlink:href=\"#arrow-892-0-5\" class=\"displacy-label\" startOffset=\"50%\" fill=\"currentColor\" text-anchor=\"middle\">relcl</textPath>\n    </text>\n    <path class=\"displacy-arrowhead\" d=\"M610.0,84.0 L618.0,72.0 602.0,72.0\" fill=\"currentColor\"/>\n</g>\n\n<g class=\"displacy-arrow\">\n    <path class=\"displacy-arc\" id=\"arrow-892-0-6\" stroke-width=\"2px\" d=\"M630,82.0 C630,42.0 685.0,42.0 685.0,82.0\" fill=\"none\" stroke=\"currentColor\"/>\n    <text dy=\"1.25em\" style=\"font-size: 0.8em; letter-spacing: 1px\">\n        <textPath xlink:href=\"#arrow-892-0-6\" class=\"displacy-label\" startOffset=\"50%\" fill=\"currentColor\" text-anchor=\"middle\">dobj</textPath>\n    </text>\n    <path class=\"displacy-arrowhead\" d=\"M685.0,84.0 L693.0,72.0 677.0,72.0\" fill=\"currentColor\"/>\n</g>\n</svg>"
          },
          "metadata": {}
        }
      ]
    },
    {
      "metadata": {
        "_uuid": "8ab02ec66ab94ddc490ff86fc7a31b21adf813b8"
      },
      "cell_type": "markdown",
      "source": "**Sarcastic Headline**"
    },
    {
      "metadata": {
        "trusted": true,
        "_uuid": "d8c262ba8f483dbd29098b75a46bd97b0ce89647"
      },
      "cell_type": "code",
      "source": "explore_headline(data['headline'][6089])",
      "execution_count": 257,
      "outputs": [
        {
          "output_type": "stream",
          "text": "Headline : typo in proposition 8 defines marriage as between 'one man and one wolfman'\n\nTotal number of tokens : 15 \n\ntypo | in | proposition | 8 | defines | marriage | as | between | ' | one | man | and | one | wolfman | ' | \n\ntypo        NOUN      ROOT        None\nin          ADP       prep        prepositional modifier\nproposition NOUN      nmod        modifier of nominal\n8           NUM       nummod      None\ndefines     NOUN      compound    None\nmarriage    NOUN      pobj        object of preposition\nas          ADP       prep        prepositional modifier\nbetween     ADP       prep        prepositional modifier\n'           PUNCT     punct       punctuation\none         NUM       nummod      None\nman         NOUN      pobj        object of preposition\nand         CCONJ     cc          coordinating conjunction\none         NUM       nummod      None\nwolfman     NOUN      conj        conjunct\n'           PUNCT     punct       punctuation\n\nTotal number of Sentences : 1\ntypo in proposition 8 defines marriage as between 'one man and one wolfman'\n\nTotal number of Entity : 3\n\n8 - CARDINAL - Numerals that do not fall under another type\none - CARDINAL - Numerals that do not fall under another type\none - CARDINAL - Numerals that do not fall under another type\n",
          "name": "stdout"
        },
        {
          "output_type": "display_data",
          "data": {
            "text/plain": "<IPython.core.display.HTML object>",
            "text/html": "<div class=\"entities\" style=\"line-height: 2.5\">typo in proposition \n<mark class=\"entity\" style=\"background: #e4e7d2; padding: 0.45em 0.6em; margin: 0 0.25em; line-height: 1; border-radius: 0.35em; box-decoration-break: clone; -webkit-box-decoration-break: clone\">\n    8\n    <span style=\"font-size: 0.8em; font-weight: bold; line-height: 1; border-radius: 0.35em; text-transform: uppercase; vertical-align: middle; margin-left: 0.5rem\">CARDINAL</span>\n</mark>\n defines marriage as between '\n<mark class=\"entity\" style=\"background: #e4e7d2; padding: 0.45em 0.6em; margin: 0 0.25em; line-height: 1; border-radius: 0.35em; box-decoration-break: clone; -webkit-box-decoration-break: clone\">\n    one\n    <span style=\"font-size: 0.8em; font-weight: bold; line-height: 1; border-radius: 0.35em; text-transform: uppercase; vertical-align: middle; margin-left: 0.5rem\">CARDINAL</span>\n</mark>\n man and \n<mark class=\"entity\" style=\"background: #e4e7d2; padding: 0.45em 0.6em; margin: 0 0.25em; line-height: 1; border-radius: 0.35em; box-decoration-break: clone; -webkit-box-decoration-break: clone\">\n    one\n    <span style=\"font-size: 0.8em; font-weight: bold; line-height: 1; border-radius: 0.35em; text-transform: uppercase; vertical-align: middle; margin-left: 0.5rem\">CARDINAL</span>\n</mark>\n wolfman'</div>"
          },
          "metadata": {}
        },
        {
          "output_type": "display_data",
          "data": {
            "text/plain": "<IPython.core.display.HTML object>",
            "text/html": "<svg xmlns=\"http://www.w3.org/2000/svg\" xmlns:xlink=\"http://www.w3.org/1999/xlink\" id=\"606-0\" class=\"displacy\" width=\"1090\" height=\"337.0\" style=\"max-width: none; height: 337.0px; color: #000000; background: #ffffff; font-family: Arial\">\n<text class=\"displacy-token\" fill=\"currentColor\" text-anchor=\"middle\" y=\"247.0\">\n    <tspan class=\"displacy-word\" fill=\"currentColor\" x=\"50\">typo</tspan>\n    <tspan class=\"displacy-tag\" dy=\"2em\" fill=\"currentColor\" x=\"50\">NOUN</tspan>\n</text>\n\n<text class=\"displacy-token\" fill=\"currentColor\" text-anchor=\"middle\" y=\"247.0\">\n    <tspan class=\"displacy-word\" fill=\"currentColor\" x=\"130\">in</tspan>\n    <tspan class=\"displacy-tag\" dy=\"2em\" fill=\"currentColor\" x=\"130\">ADP</tspan>\n</text>\n\n<text class=\"displacy-token\" fill=\"currentColor\" text-anchor=\"middle\" y=\"247.0\">\n    <tspan class=\"displacy-word\" fill=\"currentColor\" x=\"210\">proposition</tspan>\n    <tspan class=\"displacy-tag\" dy=\"2em\" fill=\"currentColor\" x=\"210\">NOUN</tspan>\n</text>\n\n<text class=\"displacy-token\" fill=\"currentColor\" text-anchor=\"middle\" y=\"247.0\">\n    <tspan class=\"displacy-word\" fill=\"currentColor\" x=\"290\">8</tspan>\n    <tspan class=\"displacy-tag\" dy=\"2em\" fill=\"currentColor\" x=\"290\">NUM</tspan>\n</text>\n\n<text class=\"displacy-token\" fill=\"currentColor\" text-anchor=\"middle\" y=\"247.0\">\n    <tspan class=\"displacy-word\" fill=\"currentColor\" x=\"370\">defines</tspan>\n    <tspan class=\"displacy-tag\" dy=\"2em\" fill=\"currentColor\" x=\"370\">NOUN</tspan>\n</text>\n\n<text class=\"displacy-token\" fill=\"currentColor\" text-anchor=\"middle\" y=\"247.0\">\n    <tspan class=\"displacy-word\" fill=\"currentColor\" x=\"450\">marriage</tspan>\n    <tspan class=\"displacy-tag\" dy=\"2em\" fill=\"currentColor\" x=\"450\">NOUN</tspan>\n</text>\n\n<text class=\"displacy-token\" fill=\"currentColor\" text-anchor=\"middle\" y=\"247.0\">\n    <tspan class=\"displacy-word\" fill=\"currentColor\" x=\"530\">as</tspan>\n    <tspan class=\"displacy-tag\" dy=\"2em\" fill=\"currentColor\" x=\"530\">ADP</tspan>\n</text>\n\n<text class=\"displacy-token\" fill=\"currentColor\" text-anchor=\"middle\" y=\"247.0\">\n    <tspan class=\"displacy-word\" fill=\"currentColor\" x=\"610\">between '</tspan>\n    <tspan class=\"displacy-tag\" dy=\"2em\" fill=\"currentColor\" x=\"610\">ADP</tspan>\n</text>\n\n<text class=\"displacy-token\" fill=\"currentColor\" text-anchor=\"middle\" y=\"247.0\">\n    <tspan class=\"displacy-word\" fill=\"currentColor\" x=\"690\">one</tspan>\n    <tspan class=\"displacy-tag\" dy=\"2em\" fill=\"currentColor\" x=\"690\">NUM</tspan>\n</text>\n\n<text class=\"displacy-token\" fill=\"currentColor\" text-anchor=\"middle\" y=\"247.0\">\n    <tspan class=\"displacy-word\" fill=\"currentColor\" x=\"770\">man</tspan>\n    <tspan class=\"displacy-tag\" dy=\"2em\" fill=\"currentColor\" x=\"770\">NOUN</tspan>\n</text>\n\n<text class=\"displacy-token\" fill=\"currentColor\" text-anchor=\"middle\" y=\"247.0\">\n    <tspan class=\"displacy-word\" fill=\"currentColor\" x=\"850\">and</tspan>\n    <tspan class=\"displacy-tag\" dy=\"2em\" fill=\"currentColor\" x=\"850\">CCONJ</tspan>\n</text>\n\n<text class=\"displacy-token\" fill=\"currentColor\" text-anchor=\"middle\" y=\"247.0\">\n    <tspan class=\"displacy-word\" fill=\"currentColor\" x=\"930\">one</tspan>\n    <tspan class=\"displacy-tag\" dy=\"2em\" fill=\"currentColor\" x=\"930\">NUM</tspan>\n</text>\n\n<text class=\"displacy-token\" fill=\"currentColor\" text-anchor=\"middle\" y=\"247.0\">\n    <tspan class=\"displacy-word\" fill=\"currentColor\" x=\"1010\">wolfman'</tspan>\n    <tspan class=\"displacy-tag\" dy=\"2em\" fill=\"currentColor\" x=\"1010\">NOUN</tspan>\n</text>\n\n<g class=\"displacy-arrow\">\n    <path class=\"displacy-arc\" id=\"arrow-606-0-0\" stroke-width=\"2px\" d=\"M70,202.0 C70,162.0 110.0,162.0 110.0,202.0\" fill=\"none\" stroke=\"currentColor\"/>\n    <text dy=\"1.25em\" style=\"font-size: 0.8em; letter-spacing: 1px\">\n        <textPath xlink:href=\"#arrow-606-0-0\" class=\"displacy-label\" startOffset=\"50%\" fill=\"currentColor\" text-anchor=\"middle\">prep</textPath>\n    </text>\n    <path class=\"displacy-arrowhead\" d=\"M110.0,204.0 L118.0,192.0 102.0,192.0\" fill=\"currentColor\"/>\n</g>\n\n<g class=\"displacy-arrow\">\n    <path class=\"displacy-arc\" id=\"arrow-606-0-1\" stroke-width=\"2px\" d=\"M230,202.0 C230,82.0 440.0,82.0 440.0,202.0\" fill=\"none\" stroke=\"currentColor\"/>\n    <text dy=\"1.25em\" style=\"font-size: 0.8em; letter-spacing: 1px\">\n        <textPath xlink:href=\"#arrow-606-0-1\" class=\"displacy-label\" startOffset=\"50%\" fill=\"currentColor\" text-anchor=\"middle\">nmod</textPath>\n    </text>\n    <path class=\"displacy-arrowhead\" d=\"M230,204.0 L222,192.0 238,192.0\" fill=\"currentColor\"/>\n</g>\n\n<g class=\"displacy-arrow\">\n    <path class=\"displacy-arc\" id=\"arrow-606-0-2\" stroke-width=\"2px\" d=\"M230,202.0 C230,162.0 270.0,162.0 270.0,202.0\" fill=\"none\" stroke=\"currentColor\"/>\n    <text dy=\"1.25em\" style=\"font-size: 0.8em; letter-spacing: 1px\">\n        <textPath xlink:href=\"#arrow-606-0-2\" class=\"displacy-label\" startOffset=\"50%\" fill=\"currentColor\" text-anchor=\"middle\">nummod</textPath>\n    </text>\n    <path class=\"displacy-arrowhead\" d=\"M270.0,204.0 L278.0,192.0 262.0,192.0\" fill=\"currentColor\"/>\n</g>\n\n<g class=\"displacy-arrow\">\n    <path class=\"displacy-arc\" id=\"arrow-606-0-3\" stroke-width=\"2px\" d=\"M390,202.0 C390,162.0 430.0,162.0 430.0,202.0\" fill=\"none\" stroke=\"currentColor\"/>\n    <text dy=\"1.25em\" style=\"font-size: 0.8em; letter-spacing: 1px\">\n        <textPath xlink:href=\"#arrow-606-0-3\" class=\"displacy-label\" startOffset=\"50%\" fill=\"currentColor\" text-anchor=\"middle\">compound</textPath>\n    </text>\n    <path class=\"displacy-arrowhead\" d=\"M390,204.0 L382,192.0 398,192.0\" fill=\"currentColor\"/>\n</g>\n\n<g class=\"displacy-arrow\">\n    <path class=\"displacy-arc\" id=\"arrow-606-0-4\" stroke-width=\"2px\" d=\"M150,202.0 C150,42.0 445.0,42.0 445.0,202.0\" fill=\"none\" stroke=\"currentColor\"/>\n    <text dy=\"1.25em\" style=\"font-size: 0.8em; letter-spacing: 1px\">\n        <textPath xlink:href=\"#arrow-606-0-4\" class=\"displacy-label\" startOffset=\"50%\" fill=\"currentColor\" text-anchor=\"middle\">pobj</textPath>\n    </text>\n    <path class=\"displacy-arrowhead\" d=\"M445.0,204.0 L453.0,192.0 437.0,192.0\" fill=\"currentColor\"/>\n</g>\n\n<g class=\"displacy-arrow\">\n    <path class=\"displacy-arc\" id=\"arrow-606-0-5\" stroke-width=\"2px\" d=\"M70,202.0 C70,2.0 530.0,2.0 530.0,202.0\" fill=\"none\" stroke=\"currentColor\"/>\n    <text dy=\"1.25em\" style=\"font-size: 0.8em; letter-spacing: 1px\">\n        <textPath xlink:href=\"#arrow-606-0-5\" class=\"displacy-label\" startOffset=\"50%\" fill=\"currentColor\" text-anchor=\"middle\">prep</textPath>\n    </text>\n    <path class=\"displacy-arrowhead\" d=\"M530.0,204.0 L538.0,192.0 522.0,192.0\" fill=\"currentColor\"/>\n</g>\n\n<g class=\"displacy-arrow\">\n    <path class=\"displacy-arc\" id=\"arrow-606-0-6\" stroke-width=\"2px\" d=\"M550,202.0 C550,162.0 590.0,162.0 590.0,202.0\" fill=\"none\" stroke=\"currentColor\"/>\n    <text dy=\"1.25em\" style=\"font-size: 0.8em; letter-spacing: 1px\">\n        <textPath xlink:href=\"#arrow-606-0-6\" class=\"displacy-label\" startOffset=\"50%\" fill=\"currentColor\" text-anchor=\"middle\">prep</textPath>\n    </text>\n    <path class=\"displacy-arrowhead\" d=\"M590.0,204.0 L598.0,192.0 582.0,192.0\" fill=\"currentColor\"/>\n</g>\n\n<g class=\"displacy-arrow\">\n    <path class=\"displacy-arc\" id=\"arrow-606-0-7\" stroke-width=\"2px\" d=\"M710,202.0 C710,162.0 750.0,162.0 750.0,202.0\" fill=\"none\" stroke=\"currentColor\"/>\n    <text dy=\"1.25em\" style=\"font-size: 0.8em; letter-spacing: 1px\">\n        <textPath xlink:href=\"#arrow-606-0-7\" class=\"displacy-label\" startOffset=\"50%\" fill=\"currentColor\" text-anchor=\"middle\">nummod</textPath>\n    </text>\n    <path class=\"displacy-arrowhead\" d=\"M710,204.0 L702,192.0 718,192.0\" fill=\"currentColor\"/>\n</g>\n\n<g class=\"displacy-arrow\">\n    <path class=\"displacy-arc\" id=\"arrow-606-0-8\" stroke-width=\"2px\" d=\"M630,202.0 C630,122.0 755.0,122.0 755.0,202.0\" fill=\"none\" stroke=\"currentColor\"/>\n    <text dy=\"1.25em\" style=\"font-size: 0.8em; letter-spacing: 1px\">\n        <textPath xlink:href=\"#arrow-606-0-8\" class=\"displacy-label\" startOffset=\"50%\" fill=\"currentColor\" text-anchor=\"middle\">pobj</textPath>\n    </text>\n    <path class=\"displacy-arrowhead\" d=\"M755.0,204.0 L763.0,192.0 747.0,192.0\" fill=\"currentColor\"/>\n</g>\n\n<g class=\"displacy-arrow\">\n    <path class=\"displacy-arc\" id=\"arrow-606-0-9\" stroke-width=\"2px\" d=\"M790,202.0 C790,162.0 830.0,162.0 830.0,202.0\" fill=\"none\" stroke=\"currentColor\"/>\n    <text dy=\"1.25em\" style=\"font-size: 0.8em; letter-spacing: 1px\">\n        <textPath xlink:href=\"#arrow-606-0-9\" class=\"displacy-label\" startOffset=\"50%\" fill=\"currentColor\" text-anchor=\"middle\">cc</textPath>\n    </text>\n    <path class=\"displacy-arrowhead\" d=\"M830.0,204.0 L838.0,192.0 822.0,192.0\" fill=\"currentColor\"/>\n</g>\n\n<g class=\"displacy-arrow\">\n    <path class=\"displacy-arc\" id=\"arrow-606-0-10\" stroke-width=\"2px\" d=\"M950,202.0 C950,162.0 990.0,162.0 990.0,202.0\" fill=\"none\" stroke=\"currentColor\"/>\n    <text dy=\"1.25em\" style=\"font-size: 0.8em; letter-spacing: 1px\">\n        <textPath xlink:href=\"#arrow-606-0-10\" class=\"displacy-label\" startOffset=\"50%\" fill=\"currentColor\" text-anchor=\"middle\">nummod</textPath>\n    </text>\n    <path class=\"displacy-arrowhead\" d=\"M950,204.0 L942,192.0 958,192.0\" fill=\"currentColor\"/>\n</g>\n\n<g class=\"displacy-arrow\">\n    <path class=\"displacy-arc\" id=\"arrow-606-0-11\" stroke-width=\"2px\" d=\"M790,202.0 C790,82.0 1000.0,82.0 1000.0,202.0\" fill=\"none\" stroke=\"currentColor\"/>\n    <text dy=\"1.25em\" style=\"font-size: 0.8em; letter-spacing: 1px\">\n        <textPath xlink:href=\"#arrow-606-0-11\" class=\"displacy-label\" startOffset=\"50%\" fill=\"currentColor\" text-anchor=\"middle\">conj</textPath>\n    </text>\n    <path class=\"displacy-arrowhead\" d=\"M1000.0,204.0 L1008.0,192.0 992.0,192.0\" fill=\"currentColor\"/>\n</g>\n</svg>"
          },
          "metadata": {}
        }
      ]
    },
    {
      "metadata": {
        "_uuid": "6a59c80853113dbe15a0b6529792b64ddcdb8cb9"
      },
      "cell_type": "markdown",
      "source": "**random headline**"
    },
    {
      "metadata": {
        "trusted": true,
        "_uuid": "6377c2248d1aa1e2a2edd6f71c73829af4a96768"
      },
      "cell_type": "code",
      "source": "explore_headline(data['headline'][7667])",
      "execution_count": 258,
      "outputs": [
        {
          "output_type": "stream",
          "text": "Headline : 15 shot in chicago on sunday\n\nTotal number of tokens : 6 \n\n15 | shot | in | chicago | on | sunday | \n\n15          NUM       nummod      None\nshot        NOUN      ROOT        None\nin          ADP       prep        prepositional modifier\nchicago     NOUN      pobj        object of preposition\non          ADP       prep        prepositional modifier\nsunday      NOUN      pobj        object of preposition\n\nTotal number of Sentences : 1\n15 shot in chicago on sunday\n\nTotal number of Entity : 3\n\n15 - CARDINAL - Numerals that do not fall under another type\nchicago - GPE - Countries, cities, states\nsunday - DATE - Absolute or relative dates or periods\n",
          "name": "stdout"
        },
        {
          "output_type": "display_data",
          "data": {
            "text/plain": "<IPython.core.display.HTML object>",
            "text/html": "<div class=\"entities\" style=\"line-height: 2.5\">\n<mark class=\"entity\" style=\"background: #e4e7d2; padding: 0.45em 0.6em; margin: 0 0.25em; line-height: 1; border-radius: 0.35em; box-decoration-break: clone; -webkit-box-decoration-break: clone\">\n    15\n    <span style=\"font-size: 0.8em; font-weight: bold; line-height: 1; border-radius: 0.35em; text-transform: uppercase; vertical-align: middle; margin-left: 0.5rem\">CARDINAL</span>\n</mark>\n shot in \n<mark class=\"entity\" style=\"background: #feca74; padding: 0.45em 0.6em; margin: 0 0.25em; line-height: 1; border-radius: 0.35em; box-decoration-break: clone; -webkit-box-decoration-break: clone\">\n    chicago\n    <span style=\"font-size: 0.8em; font-weight: bold; line-height: 1; border-radius: 0.35em; text-transform: uppercase; vertical-align: middle; margin-left: 0.5rem\">GPE</span>\n</mark>\n on \n<mark class=\"entity\" style=\"background: #bfe1d9; padding: 0.45em 0.6em; margin: 0 0.25em; line-height: 1; border-radius: 0.35em; box-decoration-break: clone; -webkit-box-decoration-break: clone\">\n    sunday\n    <span style=\"font-size: 0.8em; font-weight: bold; line-height: 1; border-radius: 0.35em; text-transform: uppercase; vertical-align: middle; margin-left: 0.5rem\">DATE</span>\n</mark>\n</div>"
          },
          "metadata": {}
        },
        {
          "output_type": "display_data",
          "data": {
            "text/plain": "<IPython.core.display.HTML object>",
            "text/html": "<svg xmlns=\"http://www.w3.org/2000/svg\" xmlns:xlink=\"http://www.w3.org/1999/xlink\" id=\"233-0\" class=\"displacy\" width=\"530\" height=\"217.0\" style=\"max-width: none; height: 217.0px; color: #000000; background: #ffffff; font-family: Arial\">\n<text class=\"displacy-token\" fill=\"currentColor\" text-anchor=\"middle\" y=\"127.0\">\n    <tspan class=\"displacy-word\" fill=\"currentColor\" x=\"50\">15</tspan>\n    <tspan class=\"displacy-tag\" dy=\"2em\" fill=\"currentColor\" x=\"50\">NUM</tspan>\n</text>\n\n<text class=\"displacy-token\" fill=\"currentColor\" text-anchor=\"middle\" y=\"127.0\">\n    <tspan class=\"displacy-word\" fill=\"currentColor\" x=\"130\">shot</tspan>\n    <tspan class=\"displacy-tag\" dy=\"2em\" fill=\"currentColor\" x=\"130\">NOUN</tspan>\n</text>\n\n<text class=\"displacy-token\" fill=\"currentColor\" text-anchor=\"middle\" y=\"127.0\">\n    <tspan class=\"displacy-word\" fill=\"currentColor\" x=\"210\">in</tspan>\n    <tspan class=\"displacy-tag\" dy=\"2em\" fill=\"currentColor\" x=\"210\">ADP</tspan>\n</text>\n\n<text class=\"displacy-token\" fill=\"currentColor\" text-anchor=\"middle\" y=\"127.0\">\n    <tspan class=\"displacy-word\" fill=\"currentColor\" x=\"290\">chicago</tspan>\n    <tspan class=\"displacy-tag\" dy=\"2em\" fill=\"currentColor\" x=\"290\">NOUN</tspan>\n</text>\n\n<text class=\"displacy-token\" fill=\"currentColor\" text-anchor=\"middle\" y=\"127.0\">\n    <tspan class=\"displacy-word\" fill=\"currentColor\" x=\"370\">on</tspan>\n    <tspan class=\"displacy-tag\" dy=\"2em\" fill=\"currentColor\" x=\"370\">ADP</tspan>\n</text>\n\n<text class=\"displacy-token\" fill=\"currentColor\" text-anchor=\"middle\" y=\"127.0\">\n    <tspan class=\"displacy-word\" fill=\"currentColor\" x=\"450\">sunday</tspan>\n    <tspan class=\"displacy-tag\" dy=\"2em\" fill=\"currentColor\" x=\"450\">NOUN</tspan>\n</text>\n\n<g class=\"displacy-arrow\">\n    <path class=\"displacy-arc\" id=\"arrow-233-0-0\" stroke-width=\"2px\" d=\"M70,82.0 C70,42.0 125.0,42.0 125.0,82.0\" fill=\"none\" stroke=\"currentColor\"/>\n    <text dy=\"1.25em\" style=\"font-size: 0.8em; letter-spacing: 1px\">\n        <textPath xlink:href=\"#arrow-233-0-0\" class=\"displacy-label\" startOffset=\"50%\" fill=\"currentColor\" text-anchor=\"middle\">nummod</textPath>\n    </text>\n    <path class=\"displacy-arrowhead\" d=\"M70,84.0 L62,72.0 78,72.0\" fill=\"currentColor\"/>\n</g>\n\n<g class=\"displacy-arrow\">\n    <path class=\"displacy-arc\" id=\"arrow-233-0-1\" stroke-width=\"2px\" d=\"M150,82.0 C150,42.0 205.0,42.0 205.0,82.0\" fill=\"none\" stroke=\"currentColor\"/>\n    <text dy=\"1.25em\" style=\"font-size: 0.8em; letter-spacing: 1px\">\n        <textPath xlink:href=\"#arrow-233-0-1\" class=\"displacy-label\" startOffset=\"50%\" fill=\"currentColor\" text-anchor=\"middle\">prep</textPath>\n    </text>\n    <path class=\"displacy-arrowhead\" d=\"M205.0,84.0 L213.0,72.0 197.0,72.0\" fill=\"currentColor\"/>\n</g>\n\n<g class=\"displacy-arrow\">\n    <path class=\"displacy-arc\" id=\"arrow-233-0-2\" stroke-width=\"2px\" d=\"M230,82.0 C230,42.0 285.0,42.0 285.0,82.0\" fill=\"none\" stroke=\"currentColor\"/>\n    <text dy=\"1.25em\" style=\"font-size: 0.8em; letter-spacing: 1px\">\n        <textPath xlink:href=\"#arrow-233-0-2\" class=\"displacy-label\" startOffset=\"50%\" fill=\"currentColor\" text-anchor=\"middle\">pobj</textPath>\n    </text>\n    <path class=\"displacy-arrowhead\" d=\"M285.0,84.0 L293.0,72.0 277.0,72.0\" fill=\"currentColor\"/>\n</g>\n\n<g class=\"displacy-arrow\">\n    <path class=\"displacy-arc\" id=\"arrow-233-0-3\" stroke-width=\"2px\" d=\"M150,82.0 C150,2.0 370.0,2.0 370.0,82.0\" fill=\"none\" stroke=\"currentColor\"/>\n    <text dy=\"1.25em\" style=\"font-size: 0.8em; letter-spacing: 1px\">\n        <textPath xlink:href=\"#arrow-233-0-3\" class=\"displacy-label\" startOffset=\"50%\" fill=\"currentColor\" text-anchor=\"middle\">prep</textPath>\n    </text>\n    <path class=\"displacy-arrowhead\" d=\"M370.0,84.0 L378.0,72.0 362.0,72.0\" fill=\"currentColor\"/>\n</g>\n\n<g class=\"displacy-arrow\">\n    <path class=\"displacy-arc\" id=\"arrow-233-0-4\" stroke-width=\"2px\" d=\"M390,82.0 C390,42.0 445.0,42.0 445.0,82.0\" fill=\"none\" stroke=\"currentColor\"/>\n    <text dy=\"1.25em\" style=\"font-size: 0.8em; letter-spacing: 1px\">\n        <textPath xlink:href=\"#arrow-233-0-4\" class=\"displacy-label\" startOffset=\"50%\" fill=\"currentColor\" text-anchor=\"middle\">pobj</textPath>\n    </text>\n    <path class=\"displacy-arrowhead\" d=\"M445.0,84.0 L453.0,72.0 437.0,72.0\" fill=\"currentColor\"/>\n</g>\n</svg>"
          },
          "metadata": {}
        }
      ]
    },
    {
      "metadata": {
        "trusted": true,
        "_uuid": "b6b0089c092ecbacba8b233c62d36275f8918fdf"
      },
      "cell_type": "code",
      "source": "data_sample = data.sample(frac=.30,random_state=1)\ndata_sample.head()",
      "execution_count": 259,
      "outputs": [
        {
          "output_type": "execute_result",
          "execution_count": 259,
          "data": {
            "text/plain": "                                            article_link     ...      is_sarcastic\n21661  https://entertainment.theonion.com/r-e-m-s-chi...     ...                 1\n6023   https://www.huffingtonpost.com/entry/what-weal...     ...                 0\n15345  https://www.huffingtonpost.com/entry/7-reasons...     ...                 0\n7915   https://www.huffingtonpost.com/entry/bradley-c...     ...                 0\n13951  https://www.theonion.com/south-carolina-refuse...     ...                 1\n\n[5 rows x 3 columns]",
            "text/html": "<div>\n<style scoped>\n    .dataframe tbody tr th:only-of-type {\n        vertical-align: middle;\n    }\n\n    .dataframe tbody tr th {\n        vertical-align: top;\n    }\n\n    .dataframe thead th {\n        text-align: right;\n    }\n</style>\n<table border=\"1\" class=\"dataframe\">\n  <thead>\n    <tr style=\"text-align: right;\">\n      <th></th>\n      <th>article_link</th>\n      <th>headline</th>\n      <th>is_sarcastic</th>\n    </tr>\n  </thead>\n  <tbody>\n    <tr>\n      <th>21661</th>\n      <td>https://entertainment.theonion.com/r-e-m-s-chi...</td>\n      <td>r.e.m.'s children still hoping parents will ge...</td>\n      <td>1</td>\n    </tr>\n    <tr>\n      <th>6023</th>\n      <td>https://www.huffingtonpost.com/entry/what-weal...</td>\n      <td>what wealth isn't</td>\n      <td>0</td>\n    </tr>\n    <tr>\n      <th>15345</th>\n      <td>https://www.huffingtonpost.com/entry/7-reasons...</td>\n      <td>7+ reasons why bisexual, pansexual, fluid, and...</td>\n      <td>0</td>\n    </tr>\n    <tr>\n      <th>7915</th>\n      <td>https://www.huffingtonpost.com/entry/bradley-c...</td>\n      <td>bradley cooper looks unrecognizable for new role</td>\n      <td>0</td>\n    </tr>\n    <tr>\n      <th>13951</th>\n      <td>https://www.theonion.com/south-carolina-refuse...</td>\n      <td>south carolina refuses to remove confederate f...</td>\n      <td>1</td>\n    </tr>\n  </tbody>\n</table>\n</div>"
          },
          "metadata": {}
        }
      ]
    },
    {
      "metadata": {
        "trusted": true,
        "_uuid": "67cb7c8fb835ca6fb71d8ff55d267d537b09329b"
      },
      "cell_type": "code",
      "source": "explore_headline(data_sample['headline'][8304])",
      "execution_count": 260,
      "outputs": [
        {
          "output_type": "stream",
          "text": "Headline : report: average american walks less than one mile each year with pants around ankles\n\nTotal number of tokens : 15 \n\nreport | : | average | american | walks | less | than | one | mile | each | year | with | pants | around | ankles | \n\nreport      NOUN      ROOT        None\n:           PUNCT     punct       punctuation\naverage     ADJ       amod        adjectival modifier\namerican    ADJ       nsubj       nominal subject\nwalks       NOUN      ccomp       clausal complement\nless        ADJ       amod        adjectival modifier\nthan        ADP       quantmod    modifier of quantifier\none         NUM       nummod      None\nmile        NOUN      dobj        direct object\neach        DET       det         determiner\nyear        NOUN      npadvmod    noun phrase as adverbial modifier\nwith        ADP       prep        prepositional modifier\npants       NOUN      pobj        object of preposition\naround      ADP       prep        prepositional modifier\nankles      NOUN      pobj        object of preposition\n\nTotal number of Sentences : 1\nreport: average american walks less than one mile each year with pants around ankles\n\nTotal number of Entity : 3\n\namerican - NORP - Nationalities or religious or political groups\nless than one mile - QUANTITY - Measurements, as of weight or distance\neach year - DATE - Absolute or relative dates or periods\n",
          "name": "stdout"
        },
        {
          "output_type": "display_data",
          "data": {
            "text/plain": "<IPython.core.display.HTML object>",
            "text/html": "<div class=\"entities\" style=\"line-height: 2.5\">report: average \n<mark class=\"entity\" style=\"background: #c887fb; padding: 0.45em 0.6em; margin: 0 0.25em; line-height: 1; border-radius: 0.35em; box-decoration-break: clone; -webkit-box-decoration-break: clone\">\n    american\n    <span style=\"font-size: 0.8em; font-weight: bold; line-height: 1; border-radius: 0.35em; text-transform: uppercase; vertical-align: middle; margin-left: 0.5rem\">NORP</span>\n</mark>\n walks \n<mark class=\"entity\" style=\"background: #e4e7d2; padding: 0.45em 0.6em; margin: 0 0.25em; line-height: 1; border-radius: 0.35em; box-decoration-break: clone; -webkit-box-decoration-break: clone\">\n    less than one mile\n    <span style=\"font-size: 0.8em; font-weight: bold; line-height: 1; border-radius: 0.35em; text-transform: uppercase; vertical-align: middle; margin-left: 0.5rem\">QUANTITY</span>\n</mark>\n \n<mark class=\"entity\" style=\"background: #bfe1d9; padding: 0.45em 0.6em; margin: 0 0.25em; line-height: 1; border-radius: 0.35em; box-decoration-break: clone; -webkit-box-decoration-break: clone\">\n    each year\n    <span style=\"font-size: 0.8em; font-weight: bold; line-height: 1; border-radius: 0.35em; text-transform: uppercase; vertical-align: middle; margin-left: 0.5rem\">DATE</span>\n</mark>\n with pants around ankles</div>"
          },
          "metadata": {}
        },
        {
          "output_type": "display_data",
          "data": {
            "text/plain": "<IPython.core.display.HTML object>",
            "text/html": "<svg xmlns=\"http://www.w3.org/2000/svg\" xmlns:xlink=\"http://www.w3.org/1999/xlink\" id=\"908-0\" class=\"displacy\" width=\"1170\" height=\"337.0\" style=\"max-width: none; height: 337.0px; color: #000000; background: #ffffff; font-family: Arial\">\n<text class=\"displacy-token\" fill=\"currentColor\" text-anchor=\"middle\" y=\"247.0\">\n    <tspan class=\"displacy-word\" fill=\"currentColor\" x=\"50\">report:</tspan>\n    <tspan class=\"displacy-tag\" dy=\"2em\" fill=\"currentColor\" x=\"50\">NOUN</tspan>\n</text>\n\n<text class=\"displacy-token\" fill=\"currentColor\" text-anchor=\"middle\" y=\"247.0\">\n    <tspan class=\"displacy-word\" fill=\"currentColor\" x=\"130\">average</tspan>\n    <tspan class=\"displacy-tag\" dy=\"2em\" fill=\"currentColor\" x=\"130\">ADJ</tspan>\n</text>\n\n<text class=\"displacy-token\" fill=\"currentColor\" text-anchor=\"middle\" y=\"247.0\">\n    <tspan class=\"displacy-word\" fill=\"currentColor\" x=\"210\">american</tspan>\n    <tspan class=\"displacy-tag\" dy=\"2em\" fill=\"currentColor\" x=\"210\">ADJ</tspan>\n</text>\n\n<text class=\"displacy-token\" fill=\"currentColor\" text-anchor=\"middle\" y=\"247.0\">\n    <tspan class=\"displacy-word\" fill=\"currentColor\" x=\"290\">walks</tspan>\n    <tspan class=\"displacy-tag\" dy=\"2em\" fill=\"currentColor\" x=\"290\">NOUN</tspan>\n</text>\n\n<text class=\"displacy-token\" fill=\"currentColor\" text-anchor=\"middle\" y=\"247.0\">\n    <tspan class=\"displacy-word\" fill=\"currentColor\" x=\"370\">less</tspan>\n    <tspan class=\"displacy-tag\" dy=\"2em\" fill=\"currentColor\" x=\"370\">ADJ</tspan>\n</text>\n\n<text class=\"displacy-token\" fill=\"currentColor\" text-anchor=\"middle\" y=\"247.0\">\n    <tspan class=\"displacy-word\" fill=\"currentColor\" x=\"450\">than</tspan>\n    <tspan class=\"displacy-tag\" dy=\"2em\" fill=\"currentColor\" x=\"450\">ADP</tspan>\n</text>\n\n<text class=\"displacy-token\" fill=\"currentColor\" text-anchor=\"middle\" y=\"247.0\">\n    <tspan class=\"displacy-word\" fill=\"currentColor\" x=\"530\">one</tspan>\n    <tspan class=\"displacy-tag\" dy=\"2em\" fill=\"currentColor\" x=\"530\">NUM</tspan>\n</text>\n\n<text class=\"displacy-token\" fill=\"currentColor\" text-anchor=\"middle\" y=\"247.0\">\n    <tspan class=\"displacy-word\" fill=\"currentColor\" x=\"610\">mile</tspan>\n    <tspan class=\"displacy-tag\" dy=\"2em\" fill=\"currentColor\" x=\"610\">NOUN</tspan>\n</text>\n\n<text class=\"displacy-token\" fill=\"currentColor\" text-anchor=\"middle\" y=\"247.0\">\n    <tspan class=\"displacy-word\" fill=\"currentColor\" x=\"690\">each</tspan>\n    <tspan class=\"displacy-tag\" dy=\"2em\" fill=\"currentColor\" x=\"690\">DET</tspan>\n</text>\n\n<text class=\"displacy-token\" fill=\"currentColor\" text-anchor=\"middle\" y=\"247.0\">\n    <tspan class=\"displacy-word\" fill=\"currentColor\" x=\"770\">year</tspan>\n    <tspan class=\"displacy-tag\" dy=\"2em\" fill=\"currentColor\" x=\"770\">NOUN</tspan>\n</text>\n\n<text class=\"displacy-token\" fill=\"currentColor\" text-anchor=\"middle\" y=\"247.0\">\n    <tspan class=\"displacy-word\" fill=\"currentColor\" x=\"850\">with</tspan>\n    <tspan class=\"displacy-tag\" dy=\"2em\" fill=\"currentColor\" x=\"850\">ADP</tspan>\n</text>\n\n<text class=\"displacy-token\" fill=\"currentColor\" text-anchor=\"middle\" y=\"247.0\">\n    <tspan class=\"displacy-word\" fill=\"currentColor\" x=\"930\">pants</tspan>\n    <tspan class=\"displacy-tag\" dy=\"2em\" fill=\"currentColor\" x=\"930\">NOUN</tspan>\n</text>\n\n<text class=\"displacy-token\" fill=\"currentColor\" text-anchor=\"middle\" y=\"247.0\">\n    <tspan class=\"displacy-word\" fill=\"currentColor\" x=\"1010\">around</tspan>\n    <tspan class=\"displacy-tag\" dy=\"2em\" fill=\"currentColor\" x=\"1010\">ADP</tspan>\n</text>\n\n<text class=\"displacy-token\" fill=\"currentColor\" text-anchor=\"middle\" y=\"247.0\">\n    <tspan class=\"displacy-word\" fill=\"currentColor\" x=\"1090\">ankles</tspan>\n    <tspan class=\"displacy-tag\" dy=\"2em\" fill=\"currentColor\" x=\"1090\">NOUN</tspan>\n</text>\n\n<g class=\"displacy-arrow\">\n    <path class=\"displacy-arc\" id=\"arrow-908-0-0\" stroke-width=\"2px\" d=\"M150,202.0 C150,162.0 190.0,162.0 190.0,202.0\" fill=\"none\" stroke=\"currentColor\"/>\n    <text dy=\"1.25em\" style=\"font-size: 0.8em; letter-spacing: 1px\">\n        <textPath xlink:href=\"#arrow-908-0-0\" class=\"displacy-label\" startOffset=\"50%\" fill=\"currentColor\" text-anchor=\"middle\">amod</textPath>\n    </text>\n    <path class=\"displacy-arrowhead\" d=\"M150,204.0 L142,192.0 158,192.0\" fill=\"currentColor\"/>\n</g>\n\n<g class=\"displacy-arrow\">\n    <path class=\"displacy-arc\" id=\"arrow-908-0-1\" stroke-width=\"2px\" d=\"M230,202.0 C230,162.0 270.0,162.0 270.0,202.0\" fill=\"none\" stroke=\"currentColor\"/>\n    <text dy=\"1.25em\" style=\"font-size: 0.8em; letter-spacing: 1px\">\n        <textPath xlink:href=\"#arrow-908-0-1\" class=\"displacy-label\" startOffset=\"50%\" fill=\"currentColor\" text-anchor=\"middle\">nsubj</textPath>\n    </text>\n    <path class=\"displacy-arrowhead\" d=\"M230,204.0 L222,192.0 238,192.0\" fill=\"currentColor\"/>\n</g>\n\n<g class=\"displacy-arrow\">\n    <path class=\"displacy-arc\" id=\"arrow-908-0-2\" stroke-width=\"2px\" d=\"M70,202.0 C70,82.0 280.0,82.0 280.0,202.0\" fill=\"none\" stroke=\"currentColor\"/>\n    <text dy=\"1.25em\" style=\"font-size: 0.8em; letter-spacing: 1px\">\n        <textPath xlink:href=\"#arrow-908-0-2\" class=\"displacy-label\" startOffset=\"50%\" fill=\"currentColor\" text-anchor=\"middle\">ccomp</textPath>\n    </text>\n    <path class=\"displacy-arrowhead\" d=\"M280.0,204.0 L288.0,192.0 272.0,192.0\" fill=\"currentColor\"/>\n</g>\n\n<g class=\"displacy-arrow\">\n    <path class=\"displacy-arc\" id=\"arrow-908-0-3\" stroke-width=\"2px\" d=\"M390,202.0 C390,122.0 515.0,122.0 515.0,202.0\" fill=\"none\" stroke=\"currentColor\"/>\n    <text dy=\"1.25em\" style=\"font-size: 0.8em; letter-spacing: 1px\">\n        <textPath xlink:href=\"#arrow-908-0-3\" class=\"displacy-label\" startOffset=\"50%\" fill=\"currentColor\" text-anchor=\"middle\">amod</textPath>\n    </text>\n    <path class=\"displacy-arrowhead\" d=\"M390,204.0 L382,192.0 398,192.0\" fill=\"currentColor\"/>\n</g>\n\n<g class=\"displacy-arrow\">\n    <path class=\"displacy-arc\" id=\"arrow-908-0-4\" stroke-width=\"2px\" d=\"M470,202.0 C470,162.0 510.0,162.0 510.0,202.0\" fill=\"none\" stroke=\"currentColor\"/>\n    <text dy=\"1.25em\" style=\"font-size: 0.8em; letter-spacing: 1px\">\n        <textPath xlink:href=\"#arrow-908-0-4\" class=\"displacy-label\" startOffset=\"50%\" fill=\"currentColor\" text-anchor=\"middle\">quantmod</textPath>\n    </text>\n    <path class=\"displacy-arrowhead\" d=\"M470,204.0 L462,192.0 478,192.0\" fill=\"currentColor\"/>\n</g>\n\n<g class=\"displacy-arrow\">\n    <path class=\"displacy-arc\" id=\"arrow-908-0-5\" stroke-width=\"2px\" d=\"M550,202.0 C550,162.0 590.0,162.0 590.0,202.0\" fill=\"none\" stroke=\"currentColor\"/>\n    <text dy=\"1.25em\" style=\"font-size: 0.8em; letter-spacing: 1px\">\n        <textPath xlink:href=\"#arrow-908-0-5\" class=\"displacy-label\" startOffset=\"50%\" fill=\"currentColor\" text-anchor=\"middle\">nummod</textPath>\n    </text>\n    <path class=\"displacy-arrowhead\" d=\"M550,204.0 L542,192.0 558,192.0\" fill=\"currentColor\"/>\n</g>\n\n<g class=\"displacy-arrow\">\n    <path class=\"displacy-arc\" id=\"arrow-908-0-6\" stroke-width=\"2px\" d=\"M310,202.0 C310,42.0 605.0,42.0 605.0,202.0\" fill=\"none\" stroke=\"currentColor\"/>\n    <text dy=\"1.25em\" style=\"font-size: 0.8em; letter-spacing: 1px\">\n        <textPath xlink:href=\"#arrow-908-0-6\" class=\"displacy-label\" startOffset=\"50%\" fill=\"currentColor\" text-anchor=\"middle\">dobj</textPath>\n    </text>\n    <path class=\"displacy-arrowhead\" d=\"M605.0,204.0 L613.0,192.0 597.0,192.0\" fill=\"currentColor\"/>\n</g>\n\n<g class=\"displacy-arrow\">\n    <path class=\"displacy-arc\" id=\"arrow-908-0-7\" stroke-width=\"2px\" d=\"M710,202.0 C710,162.0 750.0,162.0 750.0,202.0\" fill=\"none\" stroke=\"currentColor\"/>\n    <text dy=\"1.25em\" style=\"font-size: 0.8em; letter-spacing: 1px\">\n        <textPath xlink:href=\"#arrow-908-0-7\" class=\"displacy-label\" startOffset=\"50%\" fill=\"currentColor\" text-anchor=\"middle\">det</textPath>\n    </text>\n    <path class=\"displacy-arrowhead\" d=\"M710,204.0 L702,192.0 718,192.0\" fill=\"currentColor\"/>\n</g>\n\n<g class=\"displacy-arrow\">\n    <path class=\"displacy-arc\" id=\"arrow-908-0-8\" stroke-width=\"2px\" d=\"M630,202.0 C630,122.0 755.0,122.0 755.0,202.0\" fill=\"none\" stroke=\"currentColor\"/>\n    <text dy=\"1.25em\" style=\"font-size: 0.8em; letter-spacing: 1px\">\n        <textPath xlink:href=\"#arrow-908-0-8\" class=\"displacy-label\" startOffset=\"50%\" fill=\"currentColor\" text-anchor=\"middle\">npadvmod</textPath>\n    </text>\n    <path class=\"displacy-arrowhead\" d=\"M755.0,204.0 L763.0,192.0 747.0,192.0\" fill=\"currentColor\"/>\n</g>\n\n<g class=\"displacy-arrow\">\n    <path class=\"displacy-arc\" id=\"arrow-908-0-9\" stroke-width=\"2px\" d=\"M310,202.0 C310,2.0 850.0,2.0 850.0,202.0\" fill=\"none\" stroke=\"currentColor\"/>\n    <text dy=\"1.25em\" style=\"font-size: 0.8em; letter-spacing: 1px\">\n        <textPath xlink:href=\"#arrow-908-0-9\" class=\"displacy-label\" startOffset=\"50%\" fill=\"currentColor\" text-anchor=\"middle\">prep</textPath>\n    </text>\n    <path class=\"displacy-arrowhead\" d=\"M850.0,204.0 L858.0,192.0 842.0,192.0\" fill=\"currentColor\"/>\n</g>\n\n<g class=\"displacy-arrow\">\n    <path class=\"displacy-arc\" id=\"arrow-908-0-10\" stroke-width=\"2px\" d=\"M870,202.0 C870,162.0 910.0,162.0 910.0,202.0\" fill=\"none\" stroke=\"currentColor\"/>\n    <text dy=\"1.25em\" style=\"font-size: 0.8em; letter-spacing: 1px\">\n        <textPath xlink:href=\"#arrow-908-0-10\" class=\"displacy-label\" startOffset=\"50%\" fill=\"currentColor\" text-anchor=\"middle\">pobj</textPath>\n    </text>\n    <path class=\"displacy-arrowhead\" d=\"M910.0,204.0 L918.0,192.0 902.0,192.0\" fill=\"currentColor\"/>\n</g>\n\n<g class=\"displacy-arrow\">\n    <path class=\"displacy-arc\" id=\"arrow-908-0-11\" stroke-width=\"2px\" d=\"M950,202.0 C950,162.0 990.0,162.0 990.0,202.0\" fill=\"none\" stroke=\"currentColor\"/>\n    <text dy=\"1.25em\" style=\"font-size: 0.8em; letter-spacing: 1px\">\n        <textPath xlink:href=\"#arrow-908-0-11\" class=\"displacy-label\" startOffset=\"50%\" fill=\"currentColor\" text-anchor=\"middle\">prep</textPath>\n    </text>\n    <path class=\"displacy-arrowhead\" d=\"M990.0,204.0 L998.0,192.0 982.0,192.0\" fill=\"currentColor\"/>\n</g>\n\n<g class=\"displacy-arrow\">\n    <path class=\"displacy-arc\" id=\"arrow-908-0-12\" stroke-width=\"2px\" d=\"M1030,202.0 C1030,162.0 1070.0,162.0 1070.0,202.0\" fill=\"none\" stroke=\"currentColor\"/>\n    <text dy=\"1.25em\" style=\"font-size: 0.8em; letter-spacing: 1px\">\n        <textPath xlink:href=\"#arrow-908-0-12\" class=\"displacy-label\" startOffset=\"50%\" fill=\"currentColor\" text-anchor=\"middle\">pobj</textPath>\n    </text>\n    <path class=\"displacy-arrowhead\" d=\"M1070.0,204.0 L1078.0,192.0 1062.0,192.0\" fill=\"currentColor\"/>\n</g>\n</svg>"
          },
          "metadata": {}
        }
      ]
    },
    {
      "metadata": {
        "trusted": true,
        "_uuid": "9db67b74aba1c5bd4aded899e25deba5ac7d9ed5"
      },
      "cell_type": "code",
      "source": "data_sample['ents_num'] = data_sample['headline'].apply(get_ents)\ndata_sample['tokens_num'] = data_sample['headline'].apply(get_tokens)\ndata_sample['sents_num'] = data_sample['headline'].apply(get_sents)\n\ndata_sample.head()",
      "execution_count": 261,
      "outputs": [
        {
          "output_type": "execute_result",
          "execution_count": 261,
          "data": {
            "text/plain": "                                            article_link    ...    sents_num\n21661  https://entertainment.theonion.com/r-e-m-s-chi...    ...            2\n6023   https://www.huffingtonpost.com/entry/what-weal...    ...            1\n15345  https://www.huffingtonpost.com/entry/7-reasons...    ...            1\n7915   https://www.huffingtonpost.com/entry/bradley-c...    ...            1\n13951  https://www.theonion.com/south-carolina-refuse...    ...            1\n\n[5 rows x 6 columns]",
            "text/html": "<div>\n<style scoped>\n    .dataframe tbody tr th:only-of-type {\n        vertical-align: middle;\n    }\n\n    .dataframe tbody tr th {\n        vertical-align: top;\n    }\n\n    .dataframe thead th {\n        text-align: right;\n    }\n</style>\n<table border=\"1\" class=\"dataframe\">\n  <thead>\n    <tr style=\"text-align: right;\">\n      <th></th>\n      <th>article_link</th>\n      <th>headline</th>\n      <th>is_sarcastic</th>\n      <th>ents_num</th>\n      <th>tokens_num</th>\n      <th>sents_num</th>\n    </tr>\n  </thead>\n  <tbody>\n    <tr>\n      <th>21661</th>\n      <td>https://entertainment.theonion.com/r-e-m-s-chi...</td>\n      <td>r.e.m.'s children still hoping parents will ge...</td>\n      <td>1</td>\n      <td>0</td>\n      <td>11</td>\n      <td>2</td>\n    </tr>\n    <tr>\n      <th>6023</th>\n      <td>https://www.huffingtonpost.com/entry/what-weal...</td>\n      <td>what wealth isn't</td>\n      <td>0</td>\n      <td>0</td>\n      <td>4</td>\n      <td>1</td>\n    </tr>\n    <tr>\n      <th>15345</th>\n      <td>https://www.huffingtonpost.com/entry/7-reasons...</td>\n      <td>7+ reasons why bisexual, pansexual, fluid, and...</td>\n      <td>0</td>\n      <td>1</td>\n      <td>22</td>\n      <td>1</td>\n    </tr>\n    <tr>\n      <th>7915</th>\n      <td>https://www.huffingtonpost.com/entry/bradley-c...</td>\n      <td>bradley cooper looks unrecognizable for new role</td>\n      <td>0</td>\n      <td>0</td>\n      <td>7</td>\n      <td>1</td>\n    </tr>\n    <tr>\n      <th>13951</th>\n      <td>https://www.theonion.com/south-carolina-refuse...</td>\n      <td>south carolina refuses to remove confederate f...</td>\n      <td>1</td>\n      <td>0</td>\n      <td>10</td>\n      <td>1</td>\n    </tr>\n  </tbody>\n</table>\n</div>"
          },
          "metadata": {}
        }
      ]
    },
    {
      "metadata": {
        "_uuid": "bbc513f3e75a66dc97b096dfa7b876b4349a045b"
      },
      "cell_type": "markdown",
      "source": "**Now Let's loo at the average differences between sarcastic and non-sarcastic headlines**"
    },
    {
      "metadata": {
        "trusted": true,
        "_uuid": "78cb13e6244f31db96d7bda631db678073e73271"
      },
      "cell_type": "code",
      "source": "fig,(ax,ax1,ax2)=plt.subplots(nrows=3,ncols=1,figsize=(15,15))\nsns.countplot(x='ents_num',data=data_sample,hue='is_sarcastic',ax=ax,palette='spring')\nsns.countplot(x='tokens_num',data=data_sample,hue='is_sarcastic',ax=ax1,palette='winter')\nsns.countplot(x='sents_num',data=data_sample,hue='is_sarcastic',ax=ax2,palette='cool')",
      "execution_count": 262,
      "outputs": [
        {
          "output_type": "execute_result",
          "execution_count": 262,
          "data": {
            "text/plain": "<matplotlib.axes._subplots.AxesSubplot at 0x7f518121fef0>"
          },
          "metadata": {}
        },
        {
          "output_type": "display_data",
          "data": {
            "text/plain": "<Figure size 1080x1080 with 3 Axes>",
            "image/png": "[encoded data removed]"
          },
          "metadata": {}
        }
      ]
    },
    {
      "metadata": {
        "_uuid": "3d14b6a5254c905287635e23e8a3df18074590c9"
      },
      "cell_type": "markdown",
      "source": "**Building Text Classification Model**"
    },
    {
      "metadata": {
        "trusted": true,
        "_uuid": "5168786e7b4833a55058fd28facbd60474bb46f3"
      },
      "cell_type": "code",
      "source": "data_sample.drop(['article_link','ents_num','tokens_num','sents_num'],axis=1,inplace=True)\ndata.drop(['article_link'],axis=1,inplace=True)",
      "execution_count": 263,
      "outputs": []
    },
    {
      "metadata": {
        "trusted": true,
        "_uuid": "0832948bd71756e4da6325fe6efcbbd2a92574c8"
      },
      "cell_type": "code",
      "source": "blanks = []\nfor i,he,is_sa in data_sample.itertuples():\n    if type(he) == str:\n        if he.isspace():\n            blanks.append(i)\nprint(len(blanks), 'blanks: ', blanks)",
      "execution_count": 264,
      "outputs": [
        {
          "output_type": "stream",
          "text": "0 blanks:  []\n",
          "name": "stdout"
        }
      ]
    },
    {
      "metadata": {
        "trusted": true,
        "_uuid": "3b75622f1f94cecba4440b78e92f97c746280419"
      },
      "cell_type": "code",
      "source": "#train_test_split\nX = data_sample['headline']\ny = data_sample['is_sarcastic']\n\nX_train, X_test, y_train, y_test = train_test_split(X, y, test_size=0.33, random_state=42)",
      "execution_count": 265,
      "outputs": []
    },
    {
      "metadata": {
        "trusted": true,
        "_uuid": "781a833e080531141dfcc7a3b0a1120db17a750d"
      },
      "cell_type": "code",
      "source": "#Building a pipeline\n#Naive Bayes\nclassifier_nb = Pipeline([('tfidf',TfidfVectorizer()),\n                     ('clf',MultinomialNB())])\n\n#Logistic regression\nclassifier_lr = Pipeline([('tfidf',TfidfVectorizer()),\n                     ('clf',LogisticRegression(solver='saga'))])\n\n#Random Forest\nclassifier_rf = Pipeline([('tfidf',TfidfVectorizer()),\n                     ('clf',RandomForestClassifier(bootstrap= False, criterion= 'entropy', n_estimators= 100))])\n\n#Linear SVC\nclassifier_svc = Pipeline([('tfidf',TfidfVectorizer()),\n                     ('clf',LinearSVC())])",
      "execution_count": 266,
      "outputs": []
    },
    {
      "metadata": {
        "trusted": true,
        "_uuid": "d061f4ddffda257800ace79d52a98f1ae0b6526f"
      },
      "cell_type": "code",
      "source": "#Feeding the data\nclassifier_nb.fit(X_train,y_train)\nclassifier_lr.fit(X_train,y_train)\nclassifier_rf.fit(X_train,y_train)\nclassifier_svc.fit(X_train,y_train)",
      "execution_count": 267,
      "outputs": [
        {
          "output_type": "execute_result",
          "execution_count": 267,
          "data": {
            "text/plain": "Pipeline(memory=None,\n     steps=[('tfidf', TfidfVectorizer(analyzer='word', binary=False, decode_error='strict',\n        dtype=<class 'numpy.float64'>, encoding='utf-8', input='content',\n        lowercase=True, max_df=1.0, max_features=None, min_df=1,\n        ngram_range=(1, 1), norm='l2', preprocessor=None, smooth_idf=True,...ax_iter=1000,\n     multi_class='ovr', penalty='l2', random_state=None, tol=0.0001,\n     verbose=0))])"
          },
          "metadata": {}
        }
      ]
    },
    {
      "metadata": {
        "_uuid": "35d55fe6bfb47e37581285c081ca7fb1cbe1e9f2"
      },
      "cell_type": "markdown",
      "source": "## Naive Bayes - Predicting and Analyzing the result"
    },
    {
      "metadata": {
        "trusted": true,
        "_uuid": "bb5b79c7ddd856017d925b664d1993a19cf75ef4"
      },
      "cell_type": "code",
      "source": "#Predicting \ny_pred = classifier_nb.predict(X_test)\nyt_pred = classifier_nb.predict(X_train)\n#Analyzing\ncm = confusion_matrix(y_test,y_pred)\nprint(f'Confusion Matrix :\\n {cm}\\n')\nprint(f'Test Set Accuracy Score :\\n {accuracy_score(y_test,y_pred)}\\n')\nprint(f'Train Set Accuracy Score :\\n {accuracy_score(y_train,yt_pred)}\\n')\nprint(f'Classification Report :\\n {classification_report(y_test,y_pred)}')",
      "execution_count": 268,
      "outputs": [
        {
          "output_type": "stream",
          "text": "Confusion Matrix :\n [[1375   96]\n [ 502  672]]\n\nTest Set Accuracy Score :\n 0.7739130434782608\n\nTrain Set Accuracy Score :\n 0.9359165424739195\n\nClassification Report :\n               precision    recall  f1-score   support\n\n           0       0.73      0.93      0.82      1471\n           1       0.88      0.57      0.69      1174\n\n   micro avg       0.77      0.77      0.77      2645\n   macro avg       0.80      0.75      0.76      2645\nweighted avg       0.80      0.77      0.76      2645\n\n",
          "name": "stdout"
        }
      ]
    },
    {
      "metadata": {
        "_uuid": "8e3d9376f3b7527ac4fd95341a119c0e70bd3a4f"
      },
      "cell_type": "markdown",
      "source": "## Logistic Regression - Predicting and Analyzing the result"
    },
    {
      "metadata": {
        "trusted": true,
        "_uuid": "372e771d8787d87e6dcb13814992fe046e91966b"
      },
      "cell_type": "code",
      "source": "#Predicting \ny_pred = classifier_lr.predict(X_test)\nyt_pred = classifier_lr.predict(X_train)\n#Analyzing\ncm = confusion_matrix(y_test,y_pred)\nprint(f'Confusion Matrix :\\n {cm}\\n')\nprint(f'Test Set Accuracy Score :\\n {accuracy_score(y_test,y_pred)}\\n')\nprint(f'Train Set Accuracy Score :\\n {accuracy_score(y_train,yt_pred)}\\n')\nprint(f'Classification Report :\\n {classification_report(y_test,y_pred)}')",
      "execution_count": 269,
      "outputs": [
        {
          "output_type": "stream",
          "text": "Confusion Matrix :\n [[1247  224]\n [ 272  902]]\n\nTest Set Accuracy Score :\n 0.812476370510397\n\nTrain Set Accuracy Score :\n 0.9316318926974665\n\nClassification Report :\n               precision    recall  f1-score   support\n\n           0       0.82      0.85      0.83      1471\n           1       0.80      0.77      0.78      1174\n\n   micro avg       0.81      0.81      0.81      2645\n   macro avg       0.81      0.81      0.81      2645\nweighted avg       0.81      0.81      0.81      2645\n\n",
          "name": "stdout"
        }
      ]
    },
    {
      "metadata": {
        "_uuid": "64f192084ef83fabd1c912ebd04f5fb12f6f0f1a"
      },
      "cell_type": "markdown",
      "source": "## Random Forest - Predicting and Analyzing the result"
    },
    {
      "metadata": {
        "trusted": true,
        "_uuid": "8eb47081143e875fb808cddb306e2e22da6765b0"
      },
      "cell_type": "code",
      "source": "y_pred = classifier_rf.predict(X_test)\nyt_pred = classifier_rf.predict(X_train)\n\ncm = confusion_matrix(y_test,y_pred)\nprint(f'Confusion Matrix :\\n {cm}\\n')\nprint(f'Test Set Accuracy Score :\\n {accuracy_score(y_test,y_pred)}\\n')\nprint(f'Train Set Accuracy Score :\\n {accuracy_score(y_train,yt_pred)}\\n')\nprint(f'Classification Report :\\n {classification_report(y_test,y_pred)}')",
      "execution_count": 270,
      "outputs": [
        {
          "output_type": "stream",
          "text": "Confusion Matrix :\n [[1197  274]\n [ 293  881]]\n\nTest Set Accuracy Score :\n 0.7856332703213611\n\nTrain Set Accuracy Score :\n 1.0\n\nClassification Report :\n               precision    recall  f1-score   support\n\n           0       0.80      0.81      0.81      1471\n           1       0.76      0.75      0.76      1174\n\n   micro avg       0.79      0.79      0.79      2645\n   macro avg       0.78      0.78      0.78      2645\nweighted avg       0.79      0.79      0.79      2645\n\n",
          "name": "stdout"
        }
      ]
    },
    {
      "metadata": {
        "_uuid": "abb8499e5c32ab32b0154fd631171fd7140c9eec"
      },
      "cell_type": "markdown",
      "source": "## Linear SVC - Predicting and Analyzing the result"
    },
    {
      "metadata": {
        "trusted": true,
        "_uuid": "d81217586d7b158f67c5faf3c76d9fdfa12505d9"
      },
      "cell_type": "code",
      "source": "y_pred = classifier_svc.predict(X_test)\nyt_pred = classifier_svc.predict(X_train)\n\ncm = confusion_matrix(y_test,y_pred)\nprint(f'Confusion Matrix :\\n {cm}\\n')\nprint(f'Test Set Accuracy Score :\\n {accuracy_score(y_test,y_pred)}\\n')\nprint(f'Train Set Accuracy Score :\\n {accuracy_score(y_train,yt_pred)}\\n')\nprint(f'Classification Report :\\n {classification_report(y_test,y_pred)}')",
      "execution_count": 271,
      "outputs": [
        {
          "output_type": "stream",
          "text": "Confusion Matrix :\n [[1205  266]\n [ 257  917]]\n\nTest Set Accuracy Score :\n 0.8022684310018904\n\nTrain Set Accuracy Score :\n 0.9972056631892697\n\nClassification Report :\n               precision    recall  f1-score   support\n\n           0       0.82      0.82      0.82      1471\n           1       0.78      0.78      0.78      1174\n\n   micro avg       0.80      0.80      0.80      2645\n   macro avg       0.80      0.80      0.80      2645\nweighted avg       0.80      0.80      0.80      2645\n\n",
          "name": "stdout"
        }
      ]
    }
  ],
  "metadata": {
    "kernelspec": {
      "display_name": "Python 3",
      "language": "python",
      "name": "python3"
    },
    "language_info": {
      "name": "python",
      "version": "3.6.6",
      "mimetype": "text/x-python",
      "codemirror_mode": {
        "name": "ipython",
        "version": 3
      },
      "pygments_lexer": "ipython3",
      "nbconvert_exporter": "python",
      "file_extension": ".py"
    }
  },
  "nbformat": 4,
  "nbformat_minor": 1
}